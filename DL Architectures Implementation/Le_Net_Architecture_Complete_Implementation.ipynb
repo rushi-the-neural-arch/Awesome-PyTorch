{
  "nbformat": 4,
  "nbformat_minor": 0,
  "metadata": {
    "colab": {
      "name": "Le-Net Architecture-Complete Implementation",
      "provenance": [],
      "collapsed_sections": [],
      "toc_visible": true
    },
    "kernelspec": {
      "name": "python3",
      "display_name": "Python 3"
    },
    "accelerator": "GPU",
    "widgets": {
      "application/vnd.jupyter.widget-state+json": {
        "d4c4869384f242cb8f3c90f955ae925b": {
          "model_module": "@jupyter-widgets/controls",
          "model_name": "HBoxModel",
          "state": {
            "_view_name": "HBoxView",
            "_dom_classes": [],
            "_model_name": "HBoxModel",
            "_view_module": "@jupyter-widgets/controls",
            "_model_module_version": "1.5.0",
            "_view_count": null,
            "_view_module_version": "1.5.0",
            "box_style": "",
            "layout": "IPY_MODEL_53c47953c9ae4d35afdc93b082601973",
            "_model_module": "@jupyter-widgets/controls",
            "children": [
              "IPY_MODEL_26fe1a04a0df4a66a95c755f5fb9bd76",
              "IPY_MODEL_a64d4b2fcd784dc4a72e26a874f8d0ca"
            ]
          }
        },
        "53c47953c9ae4d35afdc93b082601973": {
          "model_module": "@jupyter-widgets/base",
          "model_name": "LayoutModel",
          "state": {
            "_view_name": "LayoutView",
            "grid_template_rows": null,
            "right": null,
            "justify_content": null,
            "_view_module": "@jupyter-widgets/base",
            "overflow": null,
            "_model_module_version": "1.2.0",
            "_view_count": null,
            "flex_flow": null,
            "width": null,
            "min_width": null,
            "border": null,
            "align_items": null,
            "bottom": null,
            "_model_module": "@jupyter-widgets/base",
            "top": null,
            "grid_column": null,
            "overflow_y": null,
            "overflow_x": null,
            "grid_auto_flow": null,
            "grid_area": null,
            "grid_template_columns": null,
            "flex": null,
            "_model_name": "LayoutModel",
            "justify_items": null,
            "grid_row": null,
            "max_height": null,
            "align_content": null,
            "visibility": null,
            "align_self": null,
            "height": null,
            "min_height": null,
            "padding": null,
            "grid_auto_rows": null,
            "grid_gap": null,
            "max_width": null,
            "order": null,
            "_view_module_version": "1.2.0",
            "grid_template_areas": null,
            "object_position": null,
            "object_fit": null,
            "grid_auto_columns": null,
            "margin": null,
            "display": null,
            "left": null
          }
        },
        "26fe1a04a0df4a66a95c755f5fb9bd76": {
          "model_module": "@jupyter-widgets/controls",
          "model_name": "FloatProgressModel",
          "state": {
            "_view_name": "ProgressView",
            "style": "IPY_MODEL_bd1a2cc95ec34d6582795d27583e702a",
            "_dom_classes": [],
            "description": "",
            "_model_name": "FloatProgressModel",
            "bar_style": "success",
            "max": 1,
            "_view_module": "@jupyter-widgets/controls",
            "_model_module_version": "1.5.0",
            "value": 1,
            "_view_count": null,
            "_view_module_version": "1.5.0",
            "orientation": "horizontal",
            "min": 0,
            "description_tooltip": null,
            "_model_module": "@jupyter-widgets/controls",
            "layout": "IPY_MODEL_fe7ddf6cbd4c4b04b205ff6b2cdfba2c"
          }
        },
        "a64d4b2fcd784dc4a72e26a874f8d0ca": {
          "model_module": "@jupyter-widgets/controls",
          "model_name": "HTMLModel",
          "state": {
            "_view_name": "HTMLView",
            "style": "IPY_MODEL_ece06f86c0f44a4da13b223c40f336b5",
            "_dom_classes": [],
            "description": "",
            "_model_name": "HTMLModel",
            "placeholder": "​",
            "_view_module": "@jupyter-widgets/controls",
            "_model_module_version": "1.5.0",
            "value": " 26427392/? [00:08&lt;00:00, 3261102.52it/s]",
            "_view_count": null,
            "_view_module_version": "1.5.0",
            "description_tooltip": null,
            "_model_module": "@jupyter-widgets/controls",
            "layout": "IPY_MODEL_f4843f7bf8f34b6598681a59bbb8a4fd"
          }
        },
        "bd1a2cc95ec34d6582795d27583e702a": {
          "model_module": "@jupyter-widgets/controls",
          "model_name": "ProgressStyleModel",
          "state": {
            "_view_name": "StyleView",
            "_model_name": "ProgressStyleModel",
            "description_width": "initial",
            "_view_module": "@jupyter-widgets/base",
            "_model_module_version": "1.5.0",
            "_view_count": null,
            "_view_module_version": "1.2.0",
            "bar_color": null,
            "_model_module": "@jupyter-widgets/controls"
          }
        },
        "fe7ddf6cbd4c4b04b205ff6b2cdfba2c": {
          "model_module": "@jupyter-widgets/base",
          "model_name": "LayoutModel",
          "state": {
            "_view_name": "LayoutView",
            "grid_template_rows": null,
            "right": null,
            "justify_content": null,
            "_view_module": "@jupyter-widgets/base",
            "overflow": null,
            "_model_module_version": "1.2.0",
            "_view_count": null,
            "flex_flow": null,
            "width": null,
            "min_width": null,
            "border": null,
            "align_items": null,
            "bottom": null,
            "_model_module": "@jupyter-widgets/base",
            "top": null,
            "grid_column": null,
            "overflow_y": null,
            "overflow_x": null,
            "grid_auto_flow": null,
            "grid_area": null,
            "grid_template_columns": null,
            "flex": null,
            "_model_name": "LayoutModel",
            "justify_items": null,
            "grid_row": null,
            "max_height": null,
            "align_content": null,
            "visibility": null,
            "align_self": null,
            "height": null,
            "min_height": null,
            "padding": null,
            "grid_auto_rows": null,
            "grid_gap": null,
            "max_width": null,
            "order": null,
            "_view_module_version": "1.2.0",
            "grid_template_areas": null,
            "object_position": null,
            "object_fit": null,
            "grid_auto_columns": null,
            "margin": null,
            "display": null,
            "left": null
          }
        },
        "ece06f86c0f44a4da13b223c40f336b5": {
          "model_module": "@jupyter-widgets/controls",
          "model_name": "DescriptionStyleModel",
          "state": {
            "_view_name": "StyleView",
            "_model_name": "DescriptionStyleModel",
            "description_width": "",
            "_view_module": "@jupyter-widgets/base",
            "_model_module_version": "1.5.0",
            "_view_count": null,
            "_view_module_version": "1.2.0",
            "_model_module": "@jupyter-widgets/controls"
          }
        },
        "f4843f7bf8f34b6598681a59bbb8a4fd": {
          "model_module": "@jupyter-widgets/base",
          "model_name": "LayoutModel",
          "state": {
            "_view_name": "LayoutView",
            "grid_template_rows": null,
            "right": null,
            "justify_content": null,
            "_view_module": "@jupyter-widgets/base",
            "overflow": null,
            "_model_module_version": "1.2.0",
            "_view_count": null,
            "flex_flow": null,
            "width": null,
            "min_width": null,
            "border": null,
            "align_items": null,
            "bottom": null,
            "_model_module": "@jupyter-widgets/base",
            "top": null,
            "grid_column": null,
            "overflow_y": null,
            "overflow_x": null,
            "grid_auto_flow": null,
            "grid_area": null,
            "grid_template_columns": null,
            "flex": null,
            "_model_name": "LayoutModel",
            "justify_items": null,
            "grid_row": null,
            "max_height": null,
            "align_content": null,
            "visibility": null,
            "align_self": null,
            "height": null,
            "min_height": null,
            "padding": null,
            "grid_auto_rows": null,
            "grid_gap": null,
            "max_width": null,
            "order": null,
            "_view_module_version": "1.2.0",
            "grid_template_areas": null,
            "object_position": null,
            "object_fit": null,
            "grid_auto_columns": null,
            "margin": null,
            "display": null,
            "left": null
          }
        },
        "1eadc10b489e4eb7b4551c43dd01a379": {
          "model_module": "@jupyter-widgets/controls",
          "model_name": "HBoxModel",
          "state": {
            "_view_name": "HBoxView",
            "_dom_classes": [],
            "_model_name": "HBoxModel",
            "_view_module": "@jupyter-widgets/controls",
            "_model_module_version": "1.5.0",
            "_view_count": null,
            "_view_module_version": "1.5.0",
            "box_style": "",
            "layout": "IPY_MODEL_8d9232fd6cdd481dbaad2bd9bf7d6922",
            "_model_module": "@jupyter-widgets/controls",
            "children": [
              "IPY_MODEL_e2d4d7cbd9ba46f38f42117de980b329",
              "IPY_MODEL_27a41f3978d14347b7304fca66e909f5"
            ]
          }
        },
        "8d9232fd6cdd481dbaad2bd9bf7d6922": {
          "model_module": "@jupyter-widgets/base",
          "model_name": "LayoutModel",
          "state": {
            "_view_name": "LayoutView",
            "grid_template_rows": null,
            "right": null,
            "justify_content": null,
            "_view_module": "@jupyter-widgets/base",
            "overflow": null,
            "_model_module_version": "1.2.0",
            "_view_count": null,
            "flex_flow": null,
            "width": null,
            "min_width": null,
            "border": null,
            "align_items": null,
            "bottom": null,
            "_model_module": "@jupyter-widgets/base",
            "top": null,
            "grid_column": null,
            "overflow_y": null,
            "overflow_x": null,
            "grid_auto_flow": null,
            "grid_area": null,
            "grid_template_columns": null,
            "flex": null,
            "_model_name": "LayoutModel",
            "justify_items": null,
            "grid_row": null,
            "max_height": null,
            "align_content": null,
            "visibility": null,
            "align_self": null,
            "height": null,
            "min_height": null,
            "padding": null,
            "grid_auto_rows": null,
            "grid_gap": null,
            "max_width": null,
            "order": null,
            "_view_module_version": "1.2.0",
            "grid_template_areas": null,
            "object_position": null,
            "object_fit": null,
            "grid_auto_columns": null,
            "margin": null,
            "display": null,
            "left": null
          }
        },
        "e2d4d7cbd9ba46f38f42117de980b329": {
          "model_module": "@jupyter-widgets/controls",
          "model_name": "FloatProgressModel",
          "state": {
            "_view_name": "ProgressView",
            "style": "IPY_MODEL_5ff4300bc251422ba8f2b595fcfb3403",
            "_dom_classes": [],
            "description": "",
            "_model_name": "FloatProgressModel",
            "bar_style": "success",
            "max": 1,
            "_view_module": "@jupyter-widgets/controls",
            "_model_module_version": "1.5.0",
            "value": 1,
            "_view_count": null,
            "_view_module_version": "1.5.0",
            "orientation": "horizontal",
            "min": 0,
            "description_tooltip": null,
            "_model_module": "@jupyter-widgets/controls",
            "layout": "IPY_MODEL_0aea707ed6e9433aa231673fc5eeae9f"
          }
        },
        "27a41f3978d14347b7304fca66e909f5": {
          "model_module": "@jupyter-widgets/controls",
          "model_name": "HTMLModel",
          "state": {
            "_view_name": "HTMLView",
            "style": "IPY_MODEL_e6a41e28f5a24a96a6ce838a7e7fc3fb",
            "_dom_classes": [],
            "description": "",
            "_model_name": "HTMLModel",
            "placeholder": "​",
            "_view_module": "@jupyter-widgets/controls",
            "_model_module_version": "1.5.0",
            "value": " 32768/? [00:00&lt;00:00, 61752.64it/s]",
            "_view_count": null,
            "_view_module_version": "1.5.0",
            "description_tooltip": null,
            "_model_module": "@jupyter-widgets/controls",
            "layout": "IPY_MODEL_f39483a10a624e94a37ba1e1b7489f32"
          }
        },
        "5ff4300bc251422ba8f2b595fcfb3403": {
          "model_module": "@jupyter-widgets/controls",
          "model_name": "ProgressStyleModel",
          "state": {
            "_view_name": "StyleView",
            "_model_name": "ProgressStyleModel",
            "description_width": "initial",
            "_view_module": "@jupyter-widgets/base",
            "_model_module_version": "1.5.0",
            "_view_count": null,
            "_view_module_version": "1.2.0",
            "bar_color": null,
            "_model_module": "@jupyter-widgets/controls"
          }
        },
        "0aea707ed6e9433aa231673fc5eeae9f": {
          "model_module": "@jupyter-widgets/base",
          "model_name": "LayoutModel",
          "state": {
            "_view_name": "LayoutView",
            "grid_template_rows": null,
            "right": null,
            "justify_content": null,
            "_view_module": "@jupyter-widgets/base",
            "overflow": null,
            "_model_module_version": "1.2.0",
            "_view_count": null,
            "flex_flow": null,
            "width": null,
            "min_width": null,
            "border": null,
            "align_items": null,
            "bottom": null,
            "_model_module": "@jupyter-widgets/base",
            "top": null,
            "grid_column": null,
            "overflow_y": null,
            "overflow_x": null,
            "grid_auto_flow": null,
            "grid_area": null,
            "grid_template_columns": null,
            "flex": null,
            "_model_name": "LayoutModel",
            "justify_items": null,
            "grid_row": null,
            "max_height": null,
            "align_content": null,
            "visibility": null,
            "align_self": null,
            "height": null,
            "min_height": null,
            "padding": null,
            "grid_auto_rows": null,
            "grid_gap": null,
            "max_width": null,
            "order": null,
            "_view_module_version": "1.2.0",
            "grid_template_areas": null,
            "object_position": null,
            "object_fit": null,
            "grid_auto_columns": null,
            "margin": null,
            "display": null,
            "left": null
          }
        },
        "e6a41e28f5a24a96a6ce838a7e7fc3fb": {
          "model_module": "@jupyter-widgets/controls",
          "model_name": "DescriptionStyleModel",
          "state": {
            "_view_name": "StyleView",
            "_model_name": "DescriptionStyleModel",
            "description_width": "",
            "_view_module": "@jupyter-widgets/base",
            "_model_module_version": "1.5.0",
            "_view_count": null,
            "_view_module_version": "1.2.0",
            "_model_module": "@jupyter-widgets/controls"
          }
        },
        "f39483a10a624e94a37ba1e1b7489f32": {
          "model_module": "@jupyter-widgets/base",
          "model_name": "LayoutModel",
          "state": {
            "_view_name": "LayoutView",
            "grid_template_rows": null,
            "right": null,
            "justify_content": null,
            "_view_module": "@jupyter-widgets/base",
            "overflow": null,
            "_model_module_version": "1.2.0",
            "_view_count": null,
            "flex_flow": null,
            "width": null,
            "min_width": null,
            "border": null,
            "align_items": null,
            "bottom": null,
            "_model_module": "@jupyter-widgets/base",
            "top": null,
            "grid_column": null,
            "overflow_y": null,
            "overflow_x": null,
            "grid_auto_flow": null,
            "grid_area": null,
            "grid_template_columns": null,
            "flex": null,
            "_model_name": "LayoutModel",
            "justify_items": null,
            "grid_row": null,
            "max_height": null,
            "align_content": null,
            "visibility": null,
            "align_self": null,
            "height": null,
            "min_height": null,
            "padding": null,
            "grid_auto_rows": null,
            "grid_gap": null,
            "max_width": null,
            "order": null,
            "_view_module_version": "1.2.0",
            "grid_template_areas": null,
            "object_position": null,
            "object_fit": null,
            "grid_auto_columns": null,
            "margin": null,
            "display": null,
            "left": null
          }
        },
        "2a04587b01d8487ab862992ad8d155ec": {
          "model_module": "@jupyter-widgets/controls",
          "model_name": "HBoxModel",
          "state": {
            "_view_name": "HBoxView",
            "_dom_classes": [],
            "_model_name": "HBoxModel",
            "_view_module": "@jupyter-widgets/controls",
            "_model_module_version": "1.5.0",
            "_view_count": null,
            "_view_module_version": "1.5.0",
            "box_style": "",
            "layout": "IPY_MODEL_6ddaeb7597924c149e78801891bad48b",
            "_model_module": "@jupyter-widgets/controls",
            "children": [
              "IPY_MODEL_b6226f42a08f4263bde2218f08436205",
              "IPY_MODEL_295ed379f1444f91b90af03d093dbe71"
            ]
          }
        },
        "6ddaeb7597924c149e78801891bad48b": {
          "model_module": "@jupyter-widgets/base",
          "model_name": "LayoutModel",
          "state": {
            "_view_name": "LayoutView",
            "grid_template_rows": null,
            "right": null,
            "justify_content": null,
            "_view_module": "@jupyter-widgets/base",
            "overflow": null,
            "_model_module_version": "1.2.0",
            "_view_count": null,
            "flex_flow": null,
            "width": null,
            "min_width": null,
            "border": null,
            "align_items": null,
            "bottom": null,
            "_model_module": "@jupyter-widgets/base",
            "top": null,
            "grid_column": null,
            "overflow_y": null,
            "overflow_x": null,
            "grid_auto_flow": null,
            "grid_area": null,
            "grid_template_columns": null,
            "flex": null,
            "_model_name": "LayoutModel",
            "justify_items": null,
            "grid_row": null,
            "max_height": null,
            "align_content": null,
            "visibility": null,
            "align_self": null,
            "height": null,
            "min_height": null,
            "padding": null,
            "grid_auto_rows": null,
            "grid_gap": null,
            "max_width": null,
            "order": null,
            "_view_module_version": "1.2.0",
            "grid_template_areas": null,
            "object_position": null,
            "object_fit": null,
            "grid_auto_columns": null,
            "margin": null,
            "display": null,
            "left": null
          }
        },
        "b6226f42a08f4263bde2218f08436205": {
          "model_module": "@jupyter-widgets/controls",
          "model_name": "FloatProgressModel",
          "state": {
            "_view_name": "ProgressView",
            "style": "IPY_MODEL_bc7281a630d84274be2a3bcf542c54a1",
            "_dom_classes": [],
            "description": "",
            "_model_name": "FloatProgressModel",
            "bar_style": "success",
            "max": 1,
            "_view_module": "@jupyter-widgets/controls",
            "_model_module_version": "1.5.0",
            "value": 1,
            "_view_count": null,
            "_view_module_version": "1.5.0",
            "orientation": "horizontal",
            "min": 0,
            "description_tooltip": null,
            "_model_module": "@jupyter-widgets/controls",
            "layout": "IPY_MODEL_544b989ff3f545bc8bfab6c2a22b3b90"
          }
        },
        "295ed379f1444f91b90af03d093dbe71": {
          "model_module": "@jupyter-widgets/controls",
          "model_name": "HTMLModel",
          "state": {
            "_view_name": "HTMLView",
            "style": "IPY_MODEL_263fe76cd9e746a988d588f35346297c",
            "_dom_classes": [],
            "description": "",
            "_model_name": "HTMLModel",
            "placeholder": "​",
            "_view_module": "@jupyter-widgets/controls",
            "_model_module_version": "1.5.0",
            "value": " 4423680/? [00:04&lt;00:00, 948519.81it/s]",
            "_view_count": null,
            "_view_module_version": "1.5.0",
            "description_tooltip": null,
            "_model_module": "@jupyter-widgets/controls",
            "layout": "IPY_MODEL_9e48e3f0dfde498594d56b4859e2083b"
          }
        },
        "bc7281a630d84274be2a3bcf542c54a1": {
          "model_module": "@jupyter-widgets/controls",
          "model_name": "ProgressStyleModel",
          "state": {
            "_view_name": "StyleView",
            "_model_name": "ProgressStyleModel",
            "description_width": "initial",
            "_view_module": "@jupyter-widgets/base",
            "_model_module_version": "1.5.0",
            "_view_count": null,
            "_view_module_version": "1.2.0",
            "bar_color": null,
            "_model_module": "@jupyter-widgets/controls"
          }
        },
        "544b989ff3f545bc8bfab6c2a22b3b90": {
          "model_module": "@jupyter-widgets/base",
          "model_name": "LayoutModel",
          "state": {
            "_view_name": "LayoutView",
            "grid_template_rows": null,
            "right": null,
            "justify_content": null,
            "_view_module": "@jupyter-widgets/base",
            "overflow": null,
            "_model_module_version": "1.2.0",
            "_view_count": null,
            "flex_flow": null,
            "width": null,
            "min_width": null,
            "border": null,
            "align_items": null,
            "bottom": null,
            "_model_module": "@jupyter-widgets/base",
            "top": null,
            "grid_column": null,
            "overflow_y": null,
            "overflow_x": null,
            "grid_auto_flow": null,
            "grid_area": null,
            "grid_template_columns": null,
            "flex": null,
            "_model_name": "LayoutModel",
            "justify_items": null,
            "grid_row": null,
            "max_height": null,
            "align_content": null,
            "visibility": null,
            "align_self": null,
            "height": null,
            "min_height": null,
            "padding": null,
            "grid_auto_rows": null,
            "grid_gap": null,
            "max_width": null,
            "order": null,
            "_view_module_version": "1.2.0",
            "grid_template_areas": null,
            "object_position": null,
            "object_fit": null,
            "grid_auto_columns": null,
            "margin": null,
            "display": null,
            "left": null
          }
        },
        "263fe76cd9e746a988d588f35346297c": {
          "model_module": "@jupyter-widgets/controls",
          "model_name": "DescriptionStyleModel",
          "state": {
            "_view_name": "StyleView",
            "_model_name": "DescriptionStyleModel",
            "description_width": "",
            "_view_module": "@jupyter-widgets/base",
            "_model_module_version": "1.5.0",
            "_view_count": null,
            "_view_module_version": "1.2.0",
            "_model_module": "@jupyter-widgets/controls"
          }
        },
        "9e48e3f0dfde498594d56b4859e2083b": {
          "model_module": "@jupyter-widgets/base",
          "model_name": "LayoutModel",
          "state": {
            "_view_name": "LayoutView",
            "grid_template_rows": null,
            "right": null,
            "justify_content": null,
            "_view_module": "@jupyter-widgets/base",
            "overflow": null,
            "_model_module_version": "1.2.0",
            "_view_count": null,
            "flex_flow": null,
            "width": null,
            "min_width": null,
            "border": null,
            "align_items": null,
            "bottom": null,
            "_model_module": "@jupyter-widgets/base",
            "top": null,
            "grid_column": null,
            "overflow_y": null,
            "overflow_x": null,
            "grid_auto_flow": null,
            "grid_area": null,
            "grid_template_columns": null,
            "flex": null,
            "_model_name": "LayoutModel",
            "justify_items": null,
            "grid_row": null,
            "max_height": null,
            "align_content": null,
            "visibility": null,
            "align_self": null,
            "height": null,
            "min_height": null,
            "padding": null,
            "grid_auto_rows": null,
            "grid_gap": null,
            "max_width": null,
            "order": null,
            "_view_module_version": "1.2.0",
            "grid_template_areas": null,
            "object_position": null,
            "object_fit": null,
            "grid_auto_columns": null,
            "margin": null,
            "display": null,
            "left": null
          }
        },
        "67a96ffe1d1645089c4ca18ae8ffb76e": {
          "model_module": "@jupyter-widgets/controls",
          "model_name": "HBoxModel",
          "state": {
            "_view_name": "HBoxView",
            "_dom_classes": [],
            "_model_name": "HBoxModel",
            "_view_module": "@jupyter-widgets/controls",
            "_model_module_version": "1.5.0",
            "_view_count": null,
            "_view_module_version": "1.5.0",
            "box_style": "",
            "layout": "IPY_MODEL_e7ea65a6742a4e60a93d80c97ab87879",
            "_model_module": "@jupyter-widgets/controls",
            "children": [
              "IPY_MODEL_ad1f833982064d43b00e52699cb2c6ab",
              "IPY_MODEL_cf577411d10d4090a5dc4bb474000098"
            ]
          }
        },
        "e7ea65a6742a4e60a93d80c97ab87879": {
          "model_module": "@jupyter-widgets/base",
          "model_name": "LayoutModel",
          "state": {
            "_view_name": "LayoutView",
            "grid_template_rows": null,
            "right": null,
            "justify_content": null,
            "_view_module": "@jupyter-widgets/base",
            "overflow": null,
            "_model_module_version": "1.2.0",
            "_view_count": null,
            "flex_flow": null,
            "width": null,
            "min_width": null,
            "border": null,
            "align_items": null,
            "bottom": null,
            "_model_module": "@jupyter-widgets/base",
            "top": null,
            "grid_column": null,
            "overflow_y": null,
            "overflow_x": null,
            "grid_auto_flow": null,
            "grid_area": null,
            "grid_template_columns": null,
            "flex": null,
            "_model_name": "LayoutModel",
            "justify_items": null,
            "grid_row": null,
            "max_height": null,
            "align_content": null,
            "visibility": null,
            "align_self": null,
            "height": null,
            "min_height": null,
            "padding": null,
            "grid_auto_rows": null,
            "grid_gap": null,
            "max_width": null,
            "order": null,
            "_view_module_version": "1.2.0",
            "grid_template_areas": null,
            "object_position": null,
            "object_fit": null,
            "grid_auto_columns": null,
            "margin": null,
            "display": null,
            "left": null
          }
        },
        "ad1f833982064d43b00e52699cb2c6ab": {
          "model_module": "@jupyter-widgets/controls",
          "model_name": "FloatProgressModel",
          "state": {
            "_view_name": "ProgressView",
            "style": "IPY_MODEL_c775c9f77a014b5aa63f25f1b2d49b8c",
            "_dom_classes": [],
            "description": "",
            "_model_name": "FloatProgressModel",
            "bar_style": "success",
            "max": 1,
            "_view_module": "@jupyter-widgets/controls",
            "_model_module_version": "1.5.0",
            "value": 1,
            "_view_count": null,
            "_view_module_version": "1.5.0",
            "orientation": "horizontal",
            "min": 0,
            "description_tooltip": null,
            "_model_module": "@jupyter-widgets/controls",
            "layout": "IPY_MODEL_f399f8f3cb304ee8ba66ddd06b484a11"
          }
        },
        "cf577411d10d4090a5dc4bb474000098": {
          "model_module": "@jupyter-widgets/controls",
          "model_name": "HTMLModel",
          "state": {
            "_view_name": "HTMLView",
            "style": "IPY_MODEL_2eaf380c06f94077addf9c5b90f67d36",
            "_dom_classes": [],
            "description": "",
            "_model_name": "HTMLModel",
            "placeholder": "​",
            "_view_module": "@jupyter-widgets/controls",
            "_model_module_version": "1.5.0",
            "value": " 8192/? [00:01&lt;00:00, 5970.30it/s]",
            "_view_count": null,
            "_view_module_version": "1.5.0",
            "description_tooltip": null,
            "_model_module": "@jupyter-widgets/controls",
            "layout": "IPY_MODEL_cf93678a623b497e94f1d1faeff0b6dc"
          }
        },
        "c775c9f77a014b5aa63f25f1b2d49b8c": {
          "model_module": "@jupyter-widgets/controls",
          "model_name": "ProgressStyleModel",
          "state": {
            "_view_name": "StyleView",
            "_model_name": "ProgressStyleModel",
            "description_width": "initial",
            "_view_module": "@jupyter-widgets/base",
            "_model_module_version": "1.5.0",
            "_view_count": null,
            "_view_module_version": "1.2.0",
            "bar_color": null,
            "_model_module": "@jupyter-widgets/controls"
          }
        },
        "f399f8f3cb304ee8ba66ddd06b484a11": {
          "model_module": "@jupyter-widgets/base",
          "model_name": "LayoutModel",
          "state": {
            "_view_name": "LayoutView",
            "grid_template_rows": null,
            "right": null,
            "justify_content": null,
            "_view_module": "@jupyter-widgets/base",
            "overflow": null,
            "_model_module_version": "1.2.0",
            "_view_count": null,
            "flex_flow": null,
            "width": null,
            "min_width": null,
            "border": null,
            "align_items": null,
            "bottom": null,
            "_model_module": "@jupyter-widgets/base",
            "top": null,
            "grid_column": null,
            "overflow_y": null,
            "overflow_x": null,
            "grid_auto_flow": null,
            "grid_area": null,
            "grid_template_columns": null,
            "flex": null,
            "_model_name": "LayoutModel",
            "justify_items": null,
            "grid_row": null,
            "max_height": null,
            "align_content": null,
            "visibility": null,
            "align_self": null,
            "height": null,
            "min_height": null,
            "padding": null,
            "grid_auto_rows": null,
            "grid_gap": null,
            "max_width": null,
            "order": null,
            "_view_module_version": "1.2.0",
            "grid_template_areas": null,
            "object_position": null,
            "object_fit": null,
            "grid_auto_columns": null,
            "margin": null,
            "display": null,
            "left": null
          }
        },
        "2eaf380c06f94077addf9c5b90f67d36": {
          "model_module": "@jupyter-widgets/controls",
          "model_name": "DescriptionStyleModel",
          "state": {
            "_view_name": "StyleView",
            "_model_name": "DescriptionStyleModel",
            "description_width": "",
            "_view_module": "@jupyter-widgets/base",
            "_model_module_version": "1.5.0",
            "_view_count": null,
            "_view_module_version": "1.2.0",
            "_model_module": "@jupyter-widgets/controls"
          }
        },
        "cf93678a623b497e94f1d1faeff0b6dc": {
          "model_module": "@jupyter-widgets/base",
          "model_name": "LayoutModel",
          "state": {
            "_view_name": "LayoutView",
            "grid_template_rows": null,
            "right": null,
            "justify_content": null,
            "_view_module": "@jupyter-widgets/base",
            "overflow": null,
            "_model_module_version": "1.2.0",
            "_view_count": null,
            "flex_flow": null,
            "width": null,
            "min_width": null,
            "border": null,
            "align_items": null,
            "bottom": null,
            "_model_module": "@jupyter-widgets/base",
            "top": null,
            "grid_column": null,
            "overflow_y": null,
            "overflow_x": null,
            "grid_auto_flow": null,
            "grid_area": null,
            "grid_template_columns": null,
            "flex": null,
            "_model_name": "LayoutModel",
            "justify_items": null,
            "grid_row": null,
            "max_height": null,
            "align_content": null,
            "visibility": null,
            "align_self": null,
            "height": null,
            "min_height": null,
            "padding": null,
            "grid_auto_rows": null,
            "grid_gap": null,
            "max_width": null,
            "order": null,
            "_view_module_version": "1.2.0",
            "grid_template_areas": null,
            "object_position": null,
            "object_fit": null,
            "grid_auto_columns": null,
            "margin": null,
            "display": null,
            "left": null
          }
        }
      }
    }
  },
  "cells": [
    {
      "cell_type": "code",
      "metadata": {
        "id": "SOcLSSGP1Xgy"
      },
      "source": [
        "import torch\n",
        "import torch.nn as nn\n",
        "import torch.nn.functional as F\n",
        "import torch.optim as optim\n",
        "\n",
        "import torchvision.datasets as datasets \n",
        "from torch.utils.data import DataLoader\n",
        "import torchvision.transforms as transforms\n",
        "\n",
        "import matplotlib.pyplot as plt\n",
        "import numpy as np \n",
        "\n",
        "from datetime import datetime"
      ],
      "execution_count": 16,
      "outputs": []
    },
    {
      "cell_type": "code",
      "metadata": {
        "id": "cDLjj5Im9jFK"
      },
      "source": [
        "device = 'cuda' if torch.cuda.is_available() else 'cpu'"
      ],
      "execution_count": 2,
      "outputs": []
    },
    {
      "cell_type": "markdown",
      "metadata": {
        "id": "hKZi6aBn-blF"
      },
      "source": [
        "# TODO - 1: DATASET"
      ]
    },
    {
      "cell_type": "code",
      "metadata": {
        "id": "UtjxgaSl-asl",
        "outputId": "5f56bbb4-e3ac-4831-d298-7a82c18e0ddd",
        "colab": {
          "base_uri": "https://localhost:8080/",
          "height": 386,
          "referenced_widgets": [
            "d4c4869384f242cb8f3c90f955ae925b",
            "53c47953c9ae4d35afdc93b082601973",
            "26fe1a04a0df4a66a95c755f5fb9bd76",
            "a64d4b2fcd784dc4a72e26a874f8d0ca",
            "bd1a2cc95ec34d6582795d27583e702a",
            "fe7ddf6cbd4c4b04b205ff6b2cdfba2c",
            "ece06f86c0f44a4da13b223c40f336b5",
            "f4843f7bf8f34b6598681a59bbb8a4fd",
            "1eadc10b489e4eb7b4551c43dd01a379",
            "8d9232fd6cdd481dbaad2bd9bf7d6922",
            "e2d4d7cbd9ba46f38f42117de980b329",
            "27a41f3978d14347b7304fca66e909f5",
            "5ff4300bc251422ba8f2b595fcfb3403",
            "0aea707ed6e9433aa231673fc5eeae9f",
            "e6a41e28f5a24a96a6ce838a7e7fc3fb",
            "f39483a10a624e94a37ba1e1b7489f32",
            "2a04587b01d8487ab862992ad8d155ec",
            "6ddaeb7597924c149e78801891bad48b",
            "b6226f42a08f4263bde2218f08436205",
            "295ed379f1444f91b90af03d093dbe71",
            "bc7281a630d84274be2a3bcf542c54a1",
            "544b989ff3f545bc8bfab6c2a22b3b90",
            "263fe76cd9e746a988d588f35346297c",
            "9e48e3f0dfde498594d56b4859e2083b",
            "67a96ffe1d1645089c4ca18ae8ffb76e",
            "e7ea65a6742a4e60a93d80c97ab87879",
            "ad1f833982064d43b00e52699cb2c6ab",
            "cf577411d10d4090a5dc4bb474000098",
            "c775c9f77a014b5aa63f25f1b2d49b8c",
            "f399f8f3cb304ee8ba66ddd06b484a11",
            "2eaf380c06f94077addf9c5b90f67d36",
            "cf93678a623b497e94f1d1faeff0b6dc"
          ]
        }
      },
      "source": [
        "import torchvision.transforms as transforms\n",
        "\n",
        "transforms = transforms.Compose([transforms.Resize((32,32)),\n",
        "                                 transforms.ToTensor()])\n",
        "\n",
        "\n",
        "train_dataset = datasets.FashionMNIST(root='./data',\n",
        "                                      train=True,\n",
        "                                      download = True,\n",
        "                                      transform = transforms)\n",
        "\n",
        "valid_dataset = datasets.FashionMNIST(root='./data',\n",
        "                                      train=False,\n",
        "                                      transform=transforms)"
      ],
      "execution_count": 4,
      "outputs": [
        {
          "output_type": "stream",
          "text": [
            "Downloading http://fashion-mnist.s3-website.eu-central-1.amazonaws.com/train-images-idx3-ubyte.gz to ./data/FashionMNIST/raw/train-images-idx3-ubyte.gz\n"
          ],
          "name": "stdout"
        },
        {
          "output_type": "display_data",
          "data": {
            "application/vnd.jupyter.widget-view+json": {
              "model_id": "d4c4869384f242cb8f3c90f955ae925b",
              "version_minor": 0,
              "version_major": 2
            },
            "text/plain": [
              "HBox(children=(FloatProgress(value=1.0, bar_style='info', max=1.0), HTML(value='')))"
            ]
          },
          "metadata": {
            "tags": []
          }
        },
        {
          "output_type": "stream",
          "text": [
            "Extracting ./data/FashionMNIST/raw/train-images-idx3-ubyte.gz to ./data/FashionMNIST/raw\n",
            "Downloading http://fashion-mnist.s3-website.eu-central-1.amazonaws.com/train-labels-idx1-ubyte.gz to ./data/FashionMNIST/raw/train-labels-idx1-ubyte.gz\n"
          ],
          "name": "stdout"
        },
        {
          "output_type": "display_data",
          "data": {
            "application/vnd.jupyter.widget-view+json": {
              "model_id": "1eadc10b489e4eb7b4551c43dd01a379",
              "version_minor": 0,
              "version_major": 2
            },
            "text/plain": [
              "HBox(children=(FloatProgress(value=1.0, bar_style='info', max=1.0), HTML(value='')))"
            ]
          },
          "metadata": {
            "tags": []
          }
        },
        {
          "output_type": "stream",
          "text": [
            "Extracting ./data/FashionMNIST/raw/train-labels-idx1-ubyte.gz to ./data/FashionMNIST/raw\n",
            "Downloading http://fashion-mnist.s3-website.eu-central-1.amazonaws.com/t10k-images-idx3-ubyte.gz to ./data/FashionMNIST/raw/t10k-images-idx3-ubyte.gz\n",
            "\n"
          ],
          "name": "stdout"
        },
        {
          "output_type": "display_data",
          "data": {
            "application/vnd.jupyter.widget-view+json": {
              "model_id": "2a04587b01d8487ab862992ad8d155ec",
              "version_minor": 0,
              "version_major": 2
            },
            "text/plain": [
              "HBox(children=(FloatProgress(value=1.0, bar_style='info', max=1.0), HTML(value='')))"
            ]
          },
          "metadata": {
            "tags": []
          }
        },
        {
          "output_type": "stream",
          "text": [
            "Extracting ./data/FashionMNIST/raw/t10k-images-idx3-ubyte.gz to ./data/FashionMNIST/raw\n",
            "Downloading http://fashion-mnist.s3-website.eu-central-1.amazonaws.com/t10k-labels-idx1-ubyte.gz to ./data/FashionMNIST/raw/t10k-labels-idx1-ubyte.gz\n"
          ],
          "name": "stdout"
        },
        {
          "output_type": "display_data",
          "data": {
            "application/vnd.jupyter.widget-view+json": {
              "model_id": "67a96ffe1d1645089c4ca18ae8ffb76e",
              "version_minor": 0,
              "version_major": 2
            },
            "text/plain": [
              "HBox(children=(FloatProgress(value=1.0, bar_style='info', max=1.0), HTML(value='')))"
            ]
          },
          "metadata": {
            "tags": []
          }
        },
        {
          "output_type": "stream",
          "text": [
            "Extracting ./data/FashionMNIST/raw/t10k-labels-idx1-ubyte.gz to ./data/FashionMNIST/raw\n",
            "Processing...\n",
            "Done!\n"
          ],
          "name": "stdout"
        },
        {
          "output_type": "stream",
          "text": [
            "/usr/local/lib/python3.6/dist-packages/torchvision/datasets/mnist.py:469: UserWarning: The given NumPy array is not writeable, and PyTorch does not support non-writeable tensors. This means you can write to the underlying (supposedly non-writeable) NumPy array using the tensor. You may want to copy the array to protect its data or make it writeable before converting it to a tensor. This type of warning will be suppressed for the rest of this program. (Triggered internally at  /pytorch/torch/csrc/utils/tensor_numpy.cpp:141.)\n",
            "  return torch.from_numpy(parsed.astype(m[2], copy=False)).view(*s)\n"
          ],
          "name": "stderr"
        }
      ]
    },
    {
      "cell_type": "markdown",
      "metadata": {
        "id": "nLSkkukEA9Be"
      },
      "source": [
        "## Convert Dataset to Dataloader\n"
      ]
    },
    {
      "cell_type": "code",
      "metadata": {
        "id": "PGNszZHP_0TC"
      },
      "source": [
        "train_loader = DataLoader(train_dataset, batch_size=BATCH_SIZE, shuffle=True)\n",
        "\n",
        "valid_loader = DataLoader(valid_dataset, batch_size=BATCH_SIZE, shuffle=False)"
      ],
      "execution_count": 5,
      "outputs": []
    },
    {
      "cell_type": "markdown",
      "metadata": {
        "id": "1NY3Mei4BeYw"
      },
      "source": [
        "# TODO - 2: Plot the Dataset"
      ]
    },
    {
      "cell_type": "code",
      "metadata": {
        "id": "Cw9PEeDzBaQh",
        "outputId": "b64ff901-4f2d-4065-dade-2e22901ec9a9",
        "colab": {
          "base_uri": "https://localhost:8080/",
          "height": 328
        }
      },
      "source": [
        "ROW_IMG = 5\n",
        "N_ROWS = 5\n",
        "\n",
        "fig = plt.figure()\n",
        "for index in range(1, ROW_IMG*N_ROWS + 1):\n",
        "  plt.subplot(N_ROWS,ROW_IMG, index)\n",
        "  plt.axis('off')\n",
        "  plt.imshow(train_dataset.data[index], cmap='gray_r')\n",
        "fig.suptitle('MNIST Dataset - preview');"
      ],
      "execution_count": 6,
      "outputs": [
        {
          "output_type": "stream",
          "text": [
            "\n",
            "\n",
            "\n"
          ],
          "name": "stdout"
        },
        {
          "output_type": "display_data",
          "data": {
            "image/png": "[encoded data removed]",
            "text/plain": [
              "<Figure size 432x288 with 25 Axes>"
            ]
          },
          "metadata": {
            "tags": [],
            "needs_background": "light"
          }
        }
      ]
    },
    {
      "cell_type": "code",
      "metadata": {
        "id": "-EuIiPwpK5Zy",
        "outputId": "790d42a8-fcd9-4f61-99df-aba6bc3ef366",
        "colab": {
          "base_uri": "https://localhost:8080/",
          "height": 294
        }
      },
      "source": [
        "fig = plt.figure()\n",
        "for index in range(1, ROW_IMG*N_ROWS + 1):\n",
        "  plt.subplot(N_ROWS, ROW_IMG, index)\n",
        "  plt.axis('off')\n",
        "  plt.imshow(train_dataset.data[index])\n",
        "fig.suptitle('FashionMNIST Dataset')"
      ],
      "execution_count": 7,
      "outputs": [
        {
          "output_type": "execute_result",
          "data": {
            "text/plain": [
              "Text(0.5, 0.98, 'FashionMNIST Dataset')"
            ]
          },
          "metadata": {
            "tags": []
          },
          "execution_count": 7
        },
        {
          "output_type": "display_data",
          "data": {
            "image/png": "[encoded data removed]",
            "text/plain": [
              "<Figure size 432x288 with 25 Axes>"
            ]
          },
          "metadata": {
            "tags": [],
            "needs_background": "light"
          }
        }
      ]
    },
    {
      "cell_type": "markdown",
      "metadata": {
        "id": "iDSpLaOwRBWX"
      },
      "source": [
        "# TODO - 4: Helper Functions"
      ]
    },
    {
      "cell_type": "code",
      "metadata": {
        "id": "AFnP3B17MT50"
      },
      "source": [
        "def get_accuracy(model, data_loader, device):\n",
        "    ''' \n",
        "    Function for computing the accuracy of the predictions over the entire dataloader\n",
        "    '''\n",
        "    correct_preds = 0\n",
        "    total_num = 0\n",
        "\n",
        "    with torch.no_grad():\n",
        "      model.eval()\n",
        "\n",
        "      for X,y_true in data_loader:\n",
        "\n",
        "        X = X.to(device)\n",
        "        y_true = y_true.to(device)\n",
        "\n",
        "        _, y_prob = model(X) # model(x) returns a tensor of size (BATCH_SIZE, NUM_CLASSES) - tensor([32,10])\n",
        "        _, predicted_labels = torch.max(y_prob, dim=1)\n",
        "\n",
        "        total_num += y_true.size(0)\n",
        "        correct_preds += (predicted_labels == y_true).sum()\n",
        "      \n",
        "      return correct_preds.float() / total_num\n",
        "\n",
        "def get_num_correct(preds,labels):\n",
        "    return preds.argmax(dim=1).eq(labels).sum()"
      ],
      "execution_count": 71,
      "outputs": []
    },
    {
      "cell_type": "code",
      "metadata": {
        "id": "3f95XXuqxFR3"
      },
      "source": [
        "def plot_losses(train_losses, valid_losses):\n",
        "    '''\n",
        "    Function for plotting training and validation losses\n",
        "    '''\n",
        "\n",
        "    # temporarily change the style of plots to seaborn\n",
        "    plt.style.use('seaborn')\n",
        "\n",
        "    train_losses = np.array(train_losses)\n",
        "    valid_losses = np.array(valid_losses)\n",
        "\n",
        "    fig,ax = plt.subplots(figsize = (8,4.5))\n",
        "\n",
        "    ax.plot(train_losses, color='blue', label='Training Loss')\n",
        "    ax.plot(valid_losses, color='red', label='validation Loss')\n",
        "\n",
        "    ax.set(title = 'Loss over epochs', xlabel='Epoch', ylabel='Loss')\n",
        "    ax.legend()\n",
        "    fig.show()\n",
        "\n",
        "    # Change the plot style to default\n",
        "    plt.style.use('default')\n"
      ],
      "execution_count": 10,
      "outputs": []
    },
    {
      "cell_type": "markdown",
      "metadata": {
        "id": "22qppcS48-mo"
      },
      "source": [
        "# TODO - 5: Training Functions"
      ]
    },
    {
      "cell_type": "code",
      "metadata": {
        "id": "g41-rDNc4aT7"
      },
      "source": [
        "def train(train_loader, model, criterion, optimizer, device):\n",
        "    '''\n",
        "    Function for the training step of training loop\n",
        "    '''\n",
        "    model.train()\n",
        "    running_loss = 0\n",
        "\n",
        "    for X, y_true in train_loader:\n",
        "\n",
        "        X = X.to(device)\n",
        "        y_true = y_true.to(device)\n",
        "\n",
        "        preds, _ = model(X)\n",
        "        loss = criterion(preds, y_true) # Categorical Cross Entropy Loss function\n",
        "\n",
        "        running_loss += loss.item() * X.size(0)\n",
        "\n",
        "        \n",
        "\n",
        "        '''\n",
        "        V.V.IMP: https://stackoverflow.com/questions/61092523/what-is-running-loss-in-pytorch-and-how-is-it-calculated#:~:text=item()%20contains%20the%20loss,batch%20size%2C%20given%20by%20inputs.\n",
        "        Check the abve link for reference understanding\n",
        "\n",
        "        # if the batch_size is 4, loss.item() would give the loss for the entire set of 4 images\n",
        "        That depends on how the loss is calculated. Remember, loss is a tensor just like every other tensor. \n",
        "        In general the PyTorch APIs return avg loss by default\n",
        "        \"The losses are averaged across observations for each minibatch.\"\n",
        "        '''\n",
        "\n",
        "        # Backward pass\n",
        "        loss.backward()\n",
        "        optimizer.step()\n",
        "        \n",
        "        optimizer.zero_grad()\n",
        "\n",
        "    epoch_loss = running_loss / len(train_loader.dataset) # Loss over each epoch (Different than running loss)\n",
        "    return model, optimizer, epoch_loss"
      ],
      "execution_count": 100,
      "outputs": []
    },
    {
      "cell_type": "code",
      "metadata": {
        "id": "Xt6q2a9X70AX"
      },
      "source": [
        "def validate(valid_loader, model, criterion, optimizer,device):\n",
        "    '''\n",
        "    Function for validation step of the training loop\n",
        "    '''\n",
        "\n",
        "    model.eval()\n",
        "    running_loss = 0\n",
        "\n",
        "    for X, y_true in valid_loader:\n",
        "\n",
        "      X = X.to(device)\n",
        "      y_true = y_true.to(device)\n",
        "\n",
        "      # Forward pass and record loss\n",
        "      preds, _ = model(X)\n",
        "      loss = criterion(preds, y_true)\n",
        "      running_loss += loss.item() * X.size(0)      \n",
        "    \n",
        "    epoch_loss = running_loss / len(valid_loader.dataset)\n",
        "    return model, epoch_loss"
      ],
      "execution_count": 101,
      "outputs": []
    },
    {
      "cell_type": "markdown",
      "metadata": {
        "id": "bCoPuWOdNY_n"
      },
      "source": [
        "## Save model checkpoint"
      ]
    },
    {
      "cell_type": "code",
      "metadata": {
        "id": "aHm27mFpL7iR"
      },
      "source": [
        "def save_checkpoint(state, filename = \"my_checkpoint.pth.tar\"):\n",
        "    print(\"=> Saving Checkpoint\")\n",
        "    torch.save(state, filename)\n",
        "\n",
        "\n",
        "\n",
        "def load_checkpoint(checkpoint):\n",
        "    print(\"=> Loading Checkpoint\")\n",
        "    model.load_state_dict(checkpoint['state_dict']) # V.V.IMP - Read the Dictionary\n",
        "    optimizer.load_state_dict(checkpoint['optimizer']) # That you saved and place the name in [] here accordingly\n"
      ],
      "execution_count": 50,
      "outputs": []
    },
    {
      "cell_type": "code",
      "metadata": {
        "id": "QIq8NLCQMDiC"
      },
      "source": [
        "load_model = True\n",
        "\n",
        "if load_model:\n",
        "    load_checkpoint(torch.load(\"my_checkpoint.pth.tar\"))"
      ],
      "execution_count": 52,
      "outputs": []
    },
    {
      "cell_type": "code",
      "metadata": {
        "id": "F_-4WnUb87vK"
      },
      "source": [
        "def training_loop(model, criterion, optimizer, train_loader, valid_loader,\n",
        "                  epochs, device, print_every = 1):\n",
        "  \n",
        "    ''' \n",
        "    Function defining the entire training loop\n",
        "    '''\n",
        "    train_losses = []\n",
        "    valid_losses = []\n",
        "\n",
        "    # Train model\n",
        "    for epoch in range(epochs):\n",
        "\n",
        "      if epoch % 2 == 0:\n",
        "        checkpoint = {'state_dict': model.state_dict(), 'optimizer': optimizer.state_dict()}\n",
        "        save_checkpoint(checkpoint)\n",
        "\n",
        "      # Training\n",
        "      model, optimizer, train_loss = train(train_loader, model, criterion, optimizer, device)\n",
        "      train_losses.append(train_loss)\n",
        "\n",
        "      # Validation\n",
        "      with torch.no_grad():\n",
        "        model, valid_loss = validate(valid_loader, model, criterion, optimizer, device)\n",
        "        valid_losses.append(valid_loss)\n",
        "\n",
        "      if epoch % print_every == 0:\n",
        "\n",
        "          train_acc = get_accuracy(model, train_loader, device = device)\n",
        "          valid_acc = get_accuracy(model, valid_loader, device = device)\n",
        "\n",
        "          print(f'{datetime.now().time().replace(microsecond=0)}---'\n",
        "                f'Epoch: {epoch}\\t'\n",
        "                f'Train Loss:{train_loss:.2f}\\t\\t'\n",
        "                f'Valid Loss:{valid_loss:.2f}\\t\\t'\n",
        "                f'Train accuracy:{100 * train_acc:.4f}\\t\\t'\n",
        "                f'Valid accuracy:{100 * valid_acc:.4f}\\t\\t')\n",
        "          \n",
        "    plot_losses(train_losses, valid_losses)\n",
        "\n",
        "    return model, optimizer, (train_losses, valid_losses)"
      ],
      "execution_count": 104,
      "outputs": []
    },
    {
      "cell_type": "markdown",
      "metadata": {
        "id": "dYvWWEWdA7EZ"
      },
      "source": [
        "# TODO - 6: Implement LeNet Architecture"
      ]
    },
    {
      "cell_type": "code",
      "metadata": {
        "id": "Y2fzhVLFAz-m"
      },
      "source": [
        "class LeNet5(nn.Module):\n",
        "    def __init__(self, n_classes):\n",
        "      super(LeNet5, self).__init__()\n",
        "\n",
        "      self.feature_extractor = nn.Sequential(\n",
        "          nn.Conv2d(in_channels = 1, out_channels = 6, kernel_size = 5,stride = 1), # reduced to 28 X 28 from 32 X 32\n",
        "          nn.Tanh(),                                                               # (5 X 5 X 6) + 6 = Number of Trainable Parameters: +6 for Bias\n",
        "          nn.AvgPool2d(kernel_size = 2), # reduced to 14 X 14 from 28 X 28            ( [N +2p -f / S] + 1) \n",
        "          \n",
        "          nn.Conv2d(in_channels = 6, out_channels = 16, kernel_size = 5, stride = 1),\n",
        "          nn.Tanh(),\n",
        "          nn.AvgPool2d(kernel_size = 2),\n",
        "\n",
        "          nn.Conv2d(in_channels = 16, out_channels = 120, kernel_size = 5, stride = 1),\n",
        "          nn.Tanh(),\n",
        "      )\n",
        "\n",
        "      self.classifier = nn.Sequential(\n",
        "          nn.Linear(in_features = 120, out_features = 84),\n",
        "          nn.Tanh(),\n",
        "          nn.Linear(in_features = 84, out_features = n_classes)\n",
        "      )\n",
        "\n",
        "    def forward(self, x):\n",
        "\n",
        "        x = self.feature_extractor(x)\n",
        "        x = x.reshape(x.shape[0], -1)\n",
        "\n",
        "        logits = self.classifier(x)\n",
        "        probs = F.softmax(logits, dim=1)\n",
        "\n",
        "        return logits, probs"
      ],
      "execution_count": 23,
      "outputs": []
    },
    {
      "cell_type": "markdown",
      "metadata": {
        "id": "EZtRalEVFSga"
      },
      "source": [
        "# TODO 7: Start Training"
      ]
    },
    {
      "cell_type": "markdown",
      "metadata": {
        "id": "DafJ4CEaF0Q8"
      },
      "source": [
        "## Parameters"
      ]
    },
    {
      "cell_type": "code",
      "metadata": {
        "id": "3HDSDsxAF2cx"
      },
      "source": [
        "RANDOM_SEED = 42\n",
        "LEARNING_RATE = 0.001\n",
        "BATCH_SIZE = 64\n",
        "N_EPOCHS = 5\n",
        "\n",
        "IMG_SIZE = 32\n",
        "N_CLASSES = 10"
      ],
      "execution_count": 21,
      "outputs": []
    },
    {
      "cell_type": "code",
      "metadata": {
        "id": "Y2XVv4wqFvoF",
        "outputId": "69d45c52-6bac-42a7-9887-a0e5d65f86f6",
        "colab": {
          "base_uri": "https://localhost:8080/",
          "height": 606
        }
      },
      "source": [
        "torch.manual_seed(RANDOM_SEED)\n",
        "\n",
        "model = LeNet5(N_CLASSES).to(device)\n",
        "optimizer = optim.Adam(model.parameters(), lr = LEARNING_RATE)\n",
        "criterion = nn.CrossEntropyLoss()\n",
        "\n",
        "model, optimizer, _ = training_loop(model, criterion, optimizer, train_loader, \n",
        "                                    valid_loader, N_EPOCHS, device)"
      ],
      "execution_count": 55,
      "outputs": [
        {
          "output_type": "stream",
          "text": [
            "=> Saving Checkpoint\n",
            "06:57:53---Epoch: 0\tTrain Loss:0.62\t\tValid Loss:0.47\t\tTrain accuracy:83.7900\t\tValid accuracy:83.1200\t\t\n",
            "06:58:08---Epoch: 1\tTrain Loss:0.42\t\tValid Loss:0.42\t\tTrain accuracy:85.8200\t\tValid accuracy:84.4600\t\t\n",
            "=> Saving Checkpoint\n",
            "06:58:24---Epoch: 2\tTrain Loss:0.37\t\tValid Loss:0.38\t\tTrain accuracy:87.7383\t\tValid accuracy:86.1400\t\t\n",
            "06:58:39---Epoch: 3\tTrain Loss:0.33\t\tValid Loss:0.36\t\tTrain accuracy:88.8317\t\tValid accuracy:87.0200\t\t\n",
            "=> Saving Checkpoint\n",
            "06:58:54---Epoch: 4\tTrain Loss:0.31\t\tValid Loss:0.35\t\tTrain accuracy:89.1533\t\tValid accuracy:86.9700\t\t\n"
          ],
          "name": "stdout"
        },
        {
          "output_type": "display_data",
          "data": {
            "image/png": "[encoded data removed]",
            "text/plain": [
              "<Figure size 800x450 with 1 Axes>"
            ]
          },
          "metadata": {
            "tags": []
          }
        }
      ]
    },
    {
      "cell_type": "code",
      "metadata": {
        "id": "bUZWrvY1OUcZ"
      },
      "source": [
        ""
      ],
      "execution_count": null,
      "outputs": []
    }
  ]
}